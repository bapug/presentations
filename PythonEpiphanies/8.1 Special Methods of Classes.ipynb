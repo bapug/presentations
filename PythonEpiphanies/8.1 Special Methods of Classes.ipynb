{
 "cells": [
  {
   "cell_type": "markdown",
   "metadata": {},
   "source": [
    "* basic class customization: __new__, __init__, __del__, __repr__, __str__, __bytes__,__format__\n",
    "* rich comparison methods: __lt__, __le__, __eq__, __ne__, __gt__, __ge__\n",
    "* attribute access and descriptors: __getattr__, __getattribute__, __setattr__,__delattr__, __dir__, __get__, __set__, __delete__\n",
    "* callables: __call__\n",
    "* container types: __len__, __length_hint__, __getitem__, __missing__,__setitem__, __delitem__, __iter__, (__next__), __reversed__, __contains__\n",
    "* numeric types: __add__, __sub__, __mul__, __truediv__, __floordiv__, __mod__,__divmod__, __pow__, __lshift__, __rshift__, __and__, __xor__, __or__\n",
    "* reflected operands: __radd__, __rsub__, __rmul__, __rtruediv__, __rfloordiv__,__rmod__, __rdivmod__, __rpow__,__rlshift__, __rrshift__, __rand__,__rxor__,  __ror__ \n",
    "* inplace operations: __iadd__, __isub__, __imul__, __trueidiv__, __ifloordiv__,__imod__, __ipow__, __ilshift__, __irshift__, __iand__, __ixor__, __xor__\n",
    "* unary arithmetic: __neg__, __pos__, __abs__, __invert__\n",
    "* implementing builtin functions: __complex__, __int__, __float__, __round__,__bool__, __hash__\n",
    "* context managers: __enter__, __exit__\n",
    "\n",
    "Let's look at a simple example of changing how a class handles attribute access"
   ]
  },
  {
   "cell_type": "code",
   "execution_count": null,
   "metadata": {
    "collapsed": true
   },
   "outputs": [],
   "source": [
    "class UppercaseAttributes(object):\n",
    "    \"\"\"\n",
    "    A class that returns uppercase values on uppercase attribute\n",
    "    access.\n",
    "    \"\"\"\n",
    "    # Called (if it exists) if an attribute access fails:\n",
    "    def __getattr__(self, name):\n",
    "        if name.isupper():\n",
    "            if name.lower() in self.__dict__:\n",
    "                return self.__dict__[\n",
    "                    name.lower()].upper()\n",
    "        raise AttributeError(\n",
    "            \"'{}' object has no attribute {}.\"\n",
    "            .format(self, name))"
   ]
  },
  {
   "cell_type": "code",
   "execution_count": null,
   "metadata": {
    "collapsed": true
   },
   "outputs": [],
   "source": [
    "d = UppercaseAttributes()"
   ]
  },
  {
   "cell_type": "code",
   "execution_count": null,
   "metadata": {
    "collapsed": false
   },
   "outputs": [],
   "source": [
    "d.__dict__"
   ]
  },
  {
   "cell_type": "code",
   "execution_count": null,
   "metadata": {
    "collapsed": true
   },
   "outputs": [],
   "source": [
    "d.foo = 'bar'"
   ]
  },
  {
   "cell_type": "code",
   "execution_count": null,
   "metadata": {
    "collapsed": false
   },
   "outputs": [],
   "source": [
    "d.foo"
   ]
  },
  {
   "cell_type": "code",
   "execution_count": null,
   "metadata": {
    "collapsed": false
   },
   "outputs": [],
   "source": [
    "d.__dict__"
   ]
  },
  {
   "cell_type": "code",
   "execution_count": null,
   "metadata": {
    "collapsed": false
   },
   "outputs": [],
   "source": [
    "d.FOO"
   ]
  },
  {
   "cell_type": "code",
   "execution_count": null,
   "metadata": {
    "collapsed": false
   },
   "outputs": [],
   "source": [
    "d.baz"
   ]
  },
  {
   "cell_type": "markdown",
   "metadata": {},
   "source": [
    "To add behaviour to specific attributres you can also use properties"
   ]
  },
  {
   "cell_type": "code",
   "execution_count": null,
   "metadata": {
    "collapsed": true
   },
   "outputs": [],
   "source": [
    "class PropertyEg(object):\n",
    "    \"\"\"@property example\"\"\"\n",
    "    def __init__(self):\n",
    "        self._x = 'Uninitialized'\n",
    "\n",
    "    @property\n",
    "    def x(self):\n",
    "        \"\"\"The 'x' property\"\"\"\n",
    "        print('called x getter()')\n",
    "        return self._x\n",
    "\n",
    "    @x.setter\n",
    "    def x(self, value):\n",
    "        print('called x.setter()')\n",
    "        self._x = value\n",
    "\n",
    "    @x.deleter\n",
    "    def x(self):\n",
    "        print('called x.deleter')\n",
    "        self.__init__()"
   ]
  },
  {
   "cell_type": "code",
   "execution_count": null,
   "metadata": {
    "collapsed": true
   },
   "outputs": [],
   "source": [
    "p = PropertyEg()"
   ]
  },
  {
   "cell_type": "code",
   "execution_count": null,
   "metadata": {
    "collapsed": false
   },
   "outputs": [],
   "source": [
    "p._x"
   ]
  },
  {
   "cell_type": "code",
   "execution_count": null,
   "metadata": {
    "collapsed": false
   },
   "outputs": [],
   "source": [
    "p.x"
   ]
  },
  {
   "cell_type": "code",
   "execution_count": null,
   "metadata": {
    "collapsed": false
   },
   "outputs": [],
   "source": [
    "p.x = 'bar'"
   ]
  },
  {
   "cell_type": "code",
   "execution_count": null,
   "metadata": {
    "collapsed": false
   },
   "outputs": [],
   "source": [
    "p.x"
   ]
  },
  {
   "cell_type": "code",
   "execution_count": null,
   "metadata": {
    "collapsed": false
   },
   "outputs": [],
   "source": [
    "p._x"
   ]
  },
  {
   "cell_type": "code",
   "execution_count": null,
   "metadata": {
    "collapsed": false
   },
   "outputs": [],
   "source": [
    "del p.x"
   ]
  },
  {
   "cell_type": "code",
   "execution_count": null,
   "metadata": {
    "collapsed": false
   },
   "outputs": [],
   "source": [
    "p.x"
   ]
  },
  {
   "cell_type": "code",
   "execution_count": null,
   "metadata": {
    "collapsed": false
   },
   "outputs": [],
   "source": [
    "p._x"
   ]
  },
  {
   "cell_type": "markdown",
   "metadata": {},
   "source": [
    "Usually you should just expose attributes and add properties later if you need some measure of control or\n",
    "change of behaviour."
   ]
  },
  {
   "cell_type": "code",
   "execution_count": null,
   "metadata": {
    "collapsed": true
   },
   "outputs": [],
   "source": []
  }
 ],
 "metadata": {
  "kernelspec": {
   "display_name": "Python 2",
   "language": "python",
   "name": "python2"
  },
  "language_info": {
   "codemirror_mode": {
    "name": "ipython",
    "version": 2
   },
   "file_extension": ".py",
   "mimetype": "text/x-python",
   "name": "python",
   "nbconvert_exporter": "python",
   "pygments_lexer": "ipython2",
   "version": "2.7.9"
  }
 },
 "nbformat": 4,
 "nbformat_minor": 0
}
