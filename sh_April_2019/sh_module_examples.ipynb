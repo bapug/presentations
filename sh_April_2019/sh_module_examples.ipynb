{
 "cells": [
  {
   "cell_type": "markdown",
   "metadata": {},
   "source": [
    "## Command and Keyword Arguments"
   ]
  },
  {
   "cell_type": "code",
   "execution_count": 1,
   "metadata": {},
   "outputs": [],
   "source": [
    "import sh"
   ]
  },
  {
   "cell_type": "code",
   "execution_count": 2,
   "metadata": {},
   "outputs": [
    {
     "data": {
      "text/plain": []
     },
     "execution_count": 2,
     "metadata": {},
     "output_type": "execute_result"
    }
   ],
   "source": [
    "sh.curl('https://duckduckgo.com/', o='search.html', silent=True)"
   ]
  },
  {
   "cell_type": "code",
   "execution_count": 3,
   "metadata": {},
   "outputs": [
    {
     "data": {
      "text/plain": [
       "<!DOCTYPE html>\n",
       "<!--[if IEMobile 7 ]> <html lang=\"en_US\" class=\"no-js iem7\"> <![endif]-->\n",
       "<!--[if lt IE 7]> <html class=\"ie6 lt-ie10 lt-ie9 lt-ie8 lt-ie7 no-js\" lang=\"en_US\"> <![endif]-->\n",
       "<!--[if IE 7]>    <html class=\"ie7 lt-ie10 lt-ie9 lt-ie8 no-js\" lang=\"en_US\"> <![endif]-->\n",
       "<!--[if IE 8]>    <html class=\"ie8 lt-ie10 lt-ie9 no-js\" lang=\"en_US\"> <![endif]-->\n",
       "<!--[if IE 9]>    <html class=\"ie9 lt-ie10 no-js\" lang=\"en_US\"> <![endif]-->\n",
       "<!--[if (gte IE 9)|(gt IEMobile 7)|!(IEMobile)|!(IE)]><!--><html class=\"no-js\" lang=\"en_US\"><!--<![endif]-->\n",
       "\n",
       "<head>\n",
       "\t<meta http-equiv=\"X-UA-Compatible\" content=\"IE=Edge\" />\n",
       "<meta http-equiv=\"content-type\" content=\"text/html; charset=UTF-8;charset=utf-8\">\n",
       "<meta name=\"viewport\" content=\"width=device-width, initial-scale=1, user-scalable=1\" />\n",
       "<meta name=\"HandheldFriendly\" content=\"true\"/>\n",
       "\n",
       "<link rel=\"canonical\" href=\"https://duckduckgo.com/\">\n",
       "\n",
       "<link rel=\"stylesheet\" href=\"/s1764.css\" type=\"text/css\">\n",
       "\n",
       "<link rel=\"stylesheet\" href=\"/o1764.css\" type=\"text/css\">\n",
       "\n",
       "\n",
       "\n",
       "<link rel=\"shortcut icon\" href=\"/favicon.ico\" type=\"image/x-icon\" sizes=\"16x16 32x32\"/>\n",
       "<link rel=\"apple-touch-icon\" href=\"/assets/icons/meta/DDG-iOS-icon_60x60.png\"/>\n",
       "<link rel=\"apple-touch-icon\" sizes=\"76x76\" href=\"/assets/icons/meta/DDG-iOS-icon_76x76.png\"/>\n",
       "<link rel=\"apple-touch-icon\" sizes=\"120x120\" href=\"/assets/icons/meta/DDG-iOS-icon_120x120.png\"/>\n",
       "<link rel=\"apple-touch-icon\" sizes=\"152x152\" href=\"/assets/icons/meta/DDG-iOS-icon_152x152.png\"/>\n",
       "<link rel=\"image_src\" href=\"/assets/icons/meta/DDG-icon_256x256.png\"/>\n",
       "<link rel=\"manifest\" href=\"/manifest.json\"/>\n",
       "\n",
       "<meta name=\"twitter:card\" content=\"summary\">\n",
       "<meta name=\"twitter:site\" value=\"@duckduckgo\">\n",
       "\n",
       "<meta property=\"og:url\" content=\"https://duckduckgo.com/\" />\n",
       "<meta property=\"og:site_name\" content=\"DuckDuckGo\" />\n",
       "<meta property=\"og:image\" content=\"https://duckduckgo.com/assets/logo_social-media.png\">\n",
       "\n",
       "\n",
       "\t<title>DuckDuckGo — Privacy, simplified.</title>\n",
       "<meta property=\"og:title\" content=\"DuckDuckGo — Privacy, simplified.\" />\n",
       "\n",
       "\n",
       "<meta property=\"og:description\" content=\"The Internet privacy company that empowers you to seamlessly take control of your personal information online, without any tradeoffs.\">\n",
       "<meta name=\"description\" content=\"The Internet privacy company that empowers you to seamlessly take control of your personal information online, without any tradeoffs.\">\n",
       "\n",
       "\n",
       "</head>\n",
       "<body id=\"pg-index\" class=\"page-index body--home\">\n",
       "\t<script type=\"text/javascript\">\n",
       "var settings_js_version = \"/s2471.js\",\n",
       "    locale = \"en_US\";\n",
       "</script>\n",
       "<script type=\"text/javascript\" src=\"/lib/l113.js\"></script>\n",
       "<script type=\"text/javascript\" src=\"/locale/en_US/duckduckgo7.js\"></script>\n",
       "<script type=\"text/javascript\" src=\"/util/u335.js\"></script>\n",
       "<script type=\"text/javascript\" src=\"/d2606.js\"></script>\n",
       "\n",
       "\n",
       "\n",
       "<script type=\"text/javascript\">\n",
       "    DDG.page = new DDG.Pages.Home();\n",
       "</script>\n",
       "\n",
       "\n",
       "\n",
       "\t<div class=\"site-wrapper  site-wrapper--home  js-site-wrapper\">\n",
       "\t\n",
       "\t\t\n",
       "\t\t\t<div class=\"header-wrap--home  js-header-wrap\">\n",
       "\t<div class=\"header--aside js-header-aside\"></div>\n",
       "</div>\n",
       "\t\t\t<div id=\"\" class=\"content-wrap--home\">\n",
       "\t\t\t\t<div id=\"content_homepage\" class=\"content--home\">\n",
       "\t\t\t\t\t<div class=\"cw--c\">\n",
       "\t\t\t\t\t\t\t\t<div class=\"logo-wrap--home\">\n",
       "\t\t\t<a id=\"logo_homepage_link\" class=\"logo_homepage\" href=\"/about\">\n",
       "\t\t\t\tAbout DuckDuckGo\n",
       "\t\t\t\t<span class=\"logo_homepage__tt\">Duck it!</span>\n",
       "\t\t\t</a>\n",
       "\t\t</div>\n",
       "\n",
       "\t\t\t\t\t\t<div class=\"search-wrap--home\">\n",
       "\t\t\t\t\t\t\t\t\t<form id=\"search_form_homepage\" class=\"search  search--home  js-search-form\" name=\"x\" method=\"POST\" action=\"/html\">\n",
       "\t\t\t<input id=\"search_form_input_homepage\" class=\"search__input  js-search-input\" type=\"text\" autocomplete=\"off\" name=\"q\" tabindex=\"1\" value=\"\">\n",
       "\t\t\t<input id=\"search_button_homepage\" class=\"search__button  js-search-button\" type=\"submit\" tabindex=\"2\" value=\"S\" />\n",
       "\t\t\t<input id=\"search_form_input_clear\" class=\"search__clear  empty  js-search-clear\" type=\"button\" tabindex=\"3\" value=\"X\" />\n",
       "\t\t\t<div id=\"search_elements_hidden\" class=\"search__hidden  js-search-hidden\"></div>\n",
       "\t\t</form>\n",
       "\n",
       "\t\t\t\t\t\t</div>\n",
       "\t\t\n",
       "\t\n",
       "\n",
       "\t\t\t\t\t\t<!-- en_US All Settings -->\n",
       "<noscript>\n",
       "    <div class=\"tag-home\">\n",
       "        <div class=\"tag-home__wrapper\">\n",
       "            <div class=\"tag-home__item\">\n",
       "                The search engine that doesn't track you.\n",
       "                <span class=\"hide--screen-xs\"><a href=\"/about\" class=\"tag-home__link\">Learn More</a>.</span>\n",
       "            </div>\n",
       "        </div>\n",
       "    </div>\n",
       "</noscript>\n",
       "<div class=\"tag-home  tag-home--slide  no-js__hide  js-tag-home\"></div>\n",
       "        <div id=\"error_homepage\"></div>\n",
       "\n",
       "\n",
       "\t\n",
       "\t\t\n",
       "\t\t\t\t\t</div> <!-- cw -->\n",
       "\t\t\t\t</div> <!-- content_homepage //-->\n",
       "\t\t\t</div> <!-- content_wrapper_homepage //-->\n",
       "\t\t\t<div id=\"footer_homepage\" class=\"foot-home  js-foot-home\"></div>\n",
       "\n",
       "<script type=\"text/javascript\">\n",
       "\t{function seterr(str) {\n",
       "\t\tvar error=document.getElementById('error_homepage');\n",
       "\t\terror.innerHTML=str;\n",
       "\t\t$(error).css('display','block');\n",
       "\t}\n",
       "\tvar err=new RegExp('[\\?\\&]e=([^\\&]+)');var errm=new Array();errm['2']='no search';errm['3']='search too long';errm['4']='not UTF\\u002d8 encoding';errm['6']='too many search terms';if (err.test(window.location.href)) seterr('Oops, '+(errm[RegExp.$1]?errm[RegExp.$1]:'there was an error.')+' &nbsp;Please try again');};\n",
       "\t\n",
       "\tif (kurl) {\n",
       "\t  document.getElementById(\"logo_homepage_link\").href += (document.getElementById(\"logo_homepage_link\").href.indexOf('?')==-1 ? '?t=i' : '') + kurl;\n",
       "\t}\n",
       "</script>\n",
       "\n",
       "\t\t\n",
       "\t\n",
       "\t</div> <!-- site-wrapper -->\n",
       "</body>\n",
       "</html>"
      ]
     },
     "execution_count": 3,
     "metadata": {},
     "output_type": "execute_result"
    }
   ],
   "source": [
    "sh.cat('search.html')"
   ]
  },
  {
   "cell_type": "code",
   "execution_count": 4,
   "metadata": {},
   "outputs": [
    {
     "data": {
      "text/plain": [
       "<!DOCTYPE html><!--[if IEMobile 7 ]> <html lang=\"en_US\" class=\"no-js iem7\"> <![endif]--><!--[if lt IE 7]> <html lang=\"en_US\" class=\"no-js ie6 lt-ie10 lt-ie9 lt-ie8 lt-ie7\"><![endif]--><!--[if IE 7]>    <html lang=\"en_US\" class=\"no-js ie7 lt-ie10 lt-ie9 lt-ie8\"> <![endif]--><!--[if IE 8]>    <html lang=\"en_US\" class=\"no-js ie8 lt-ie10 lt-ie9  has-zcm\"><![endif]--><!--[if IE 9]>    <html lang=\"en_US\" class=\"no-js ie9 lt-ie10 has-zcm\"> <![endif]--><!--[if (gte IE 9)|(gt IEMobile 7)|!(IEMobile)|!(IE)]><!--><html class=\"no-js has-zcm   \"><!--<![endif]--><head><meta http-equiv=\"X-UA-Compatible\" content=\"IE=edge, chrome=1\"><meta http-equiv=\"content-type\" content=\"text/html; charset=utf-8\"><title>python at DuckDuckGo</title><link rel=\"stylesheet\" href=\"/s1764.css\" type=\"text/css\"><link rel=\"stylesheet\" href=\"/r1764.css\" type=\"text/css\"><meta name=\"robots\" content=\"noindex,nofollow\"><meta name=\"referrer\" content=\"origin\"><meta name=\"apple-mobile-web-app-title\" content=\"python\"><link rel=\"shortcut icon\" href=\"/favicon.ico\" type=\"image/x-icon\" sizes=\"16x16 24x24 32x32 64x64\"/><link id=\"icon60\" rel=\"apple-touch-icon\" href=\"/assets/icons/meta/DDG-iOS-icon_60x60.png?v=2\"/><link id=\"icon76\" rel=\"apple-touch-icon\" sizes=\"76x76\" href=\"/assets/icons/meta/DDG-iOS-icon_76x76.png?v=2\"/><link id=\"icon120\" rel=\"apple-touch-icon\" sizes=\"120x120\" href=\"/assets/icons/meta/DDG-iOS-icon_120x120.png?v=2\"/><link id=\"icon152\" rel=\"apple-touch-icon\" sizes=\"152x152\" href=\"/assets/icons/meta/DDG-iOS-icon_152x152.png?v=2\"/><link rel=\"image_src\" href=\"/assets/icons/meta/DDG-icon_256x256.png\"/><script type=\"text/javascript\">var ct,fd,fq,it,iqa,iqm,iqs,iqp,iqq,qw,dl,ra,rv,rad,r1hc,r1c,r2c,r3c,rfq,rq,rds,rs,rt,rl,y,y1,ti,tig,iqd,locale,settings_js_version='s2471',is_twitter='',rpl=1;fq=0;fd=1;it=0;iqa=0;iqbi=0;iqm=0;iqs=0;iqp=0;iqq=0;qw=1;dl='';ct='US';iqd=0;r1hc=0;r1c=0;r3c=0;rq='python';rqd=\"python\";rfq=0;rt='D';ra='';rv='';rad='';rds=30;rs=0;spice_version='1395';spice_paths='{}';locale='en_US';settings_url_params={};rl='wt-wt';rlo=0;df='';ds='';sfq='';iar='';vqd='3-291308486283598054592131377406904356904-301457362893024905594735498051173735605';safe_ddg=0;;</script><meta name=\"viewport\" content=\"width=device-width, initial-scale=1\" /><meta name=\"HandheldFriendly\" content=\"true\" /><meta name=\"apple-mobile-web-app-capable\" content=\"no\" /></head><body class=\"body--serp\"><input id=\"state_hidden\" name=\"state_hidden\" type=\"text\" size=\"1\"><span class=\"hide\">Ignore this box please.</span><div id=\"spacing_hidden_wrapper\"><div id=\"spacing_hidden\"></div></div><script type=\"text/javascript\" src=\"/lib/l113.js\"></script><script type=\"text/javascript\" src=\"/js/oas.js\" onerror=\"window.ddg_e=1;\"></script><script type=\"text/javascript\" src=\"/locale/en_US/duckduckgo7.js\"></script><script type=\"text/javascript\" src=\"/util/u335.js\"></script><script type=\"text/javascript\" src=\"/d2606.js\"></script><div class=\"site-wrapper  js-site-wrapper\"><div id=\"header_wrapper\" class=\"header-wrap js-header-wrap\"><div class=\"welcome-wrap js-welcome-wrap\"></div><div id=\"header\" class=\"header  cw\"><div class=\"header__search-wrap\"><a tabindex=\"-1\" href=\"/\" class=\"header__logo-wrap js-header-logo\"><span class=\"header__logo js-logo-ddg\">DuckDuckGo</span></a><div class=\"header__content  header__search\"><form id=\"search_form\" class=\"search--adv  search--header  js-search-form\" name=\"x\" action=\"/\"><input type=\"text\" name=\"q\" tabindex=\"1\" autocomplete=\"off\" id=\"search_form_input\" class=\"search__input--adv  js-search-input\" value=\"python\"><input id=\"search_form_input_clear\" class=\"search__clear  js-search-clear\" type=\"button\" tabindex=\"3\" value=\"X\"/><input id=\"search_button\" class=\"search__button  js-search-button\" type=\"submit\" tabindex=\"2\" value=\"S\" /><a id=\"search_dropdown\" class=\"search__dropdown\" href=\"javascript:;\" tabindex=\"4\"></a><div id=\"search_elements_hidden\" class=\"search__hidden  js-search-hidden\"></div></form></div></div><div id=\"duckbar\" class=\"zcm-wrap  zcm-wrap--header  is-noscript-hidden\"></div></div><div class=\"header--aside js-header-aside\"></div></div><div id=\"zero_click_wrapper\" class=\"zci-wrap\"></div><div id=\"vertical_wrapper\" class=\"verticals\"></div><div id=\"web_content_wrapper\" class=\"content-wrap \"><div class=\"serp__top-right  js-serp-top-right\"></div><div class=\"serp__bottom-right  js-serp-bottom-right\"><div class=\"js-feedback-btn-wrap\"></div></div><div class=\"cw\"><div id=\"links_wrapper\" class=\"serp__results js-serp-results\"><div class=\"results--main\"><div class=\"search-filters-wrap\"><div class=\"js-search-filters search-filters\"></div></div><noscript><meta http-equiv=\"refresh\" content=\"0;URL=/html?q=python\"><link href=\"/css/noscript.css\" rel=\"stylesheet\" type=\"text/css\"><div class=\"msg msg--noscript\"><p class=\"msg-title--noscript\">You are being redirected to the non-JavaScript site.</p>Click <a href=\"/html/?q=python\">here</a> if it doesn't happen automatically.</div></noscript><div id=\"message\" class=\"results--message\"></div><div class=\"ia-modules js-ia-modules\"></div><div id=\"ads\" class=\"results--ads results--ads--main is-hidden js-results-ads\"></div><div id=\"links\" class=\"results is-hidden js-results\"></div></div><div class=\"results--sidebar js-results-sidebar\"><div class=\"sidebar-modules js-sidebar-modules\"></div><div class=\"is-hidden js-sidebar-ads\"></div></div></div></div></div><div id=\"bottom_spacing2\"> </div></div><script type=\"text/javascript\"></script><script type=\"text/JavaScript\">function nrji() {nrj('/t.js?q=python&t=D&l=wt-wt&s=0&ct=US&ss_mkt=us&p_ent=&ex=-1');nrj('/d.js?q=python&t=D&l=wt-wt&s=0&ct=US&ss_mkt=us&vqd=3-291308486283598054592131377406904356904-301457362893024905594735498051173735605&p_ent=&ex=-1&sp=0');DDH.wikipedia_fathead=DDH.wikipedia_fathead||{};DDH.wikipedia_fathead.meta={\"blockgroup\":null,\"repo\":\"fathead\",\"producer\":null,\"attribution\":null,\"src_name\":\"Wikipedia\",\"signal_from\":\"wikipedia_fathead\",\"perl_module\":\"DDG::Fathead::Wikipedia\",\"unsafe\":0,\"created_date\":null,\"src_options\":{\"is_mediawiki\":1,\"skip_image_name\":0,\"skip_abstract\":0,\"skip_icon\":0,\"skip_qr\":\"\",\"directory\":\"\",\"language\":\"en\",\"is_wikipedia\":1,\"is_fanon\":0,\"skip_abstract_paren\":0,\"min_abstract_length\":\"20\",\"src_info\":\"\",\"skip_end\":\"0\",\"source_skip\":\"\"},\"developer\":[{\"type\":\"ddg\",\"name\":\"DDG Team\",\"url\":\"http://www.duckduckhack.com\"}],\"name\":\"Wikipedia\",\"description\":\"Wikipedia\",\"dev_milestone\":\"live\",\"tab\":\"About\",\"production_state\":\"online\",\"status\":\"live\",\"id\":\"wikipedia_fathead\",\"live_date\":null,\"designer\":null,\"is_stackexchange\":null,\"maintainer\":{\"github\":\"duckduckgo\"},\"src_domain\":\"en.wikipedia.org\",\"topic\":[\"productivity\"],\"src_id\":1,\"src_url\":null,\"dev_date\":null,\"js_callback_name\":\"wikipedia\",\"example_query\":\"nikola tesla\"};;};DDG.ready(nrji, 1);</script><script src=\"/g2113.js\"></script><script type=\"text/javascript\">DDG.ready(function () {DDG.duckbar.add({\"model\":\"FatheadArticle\",\"from\":\"main_answer\",\"data\":{\"Entity\":\"programming language\",\"RelatedTopics\":[{\"FirstURL\":\"https://duckduckgo.com/c/Python_(programming_language)\",\"Result\":\"<a href=\\\"https://duckduckgo.com/c/Python_(programming_language)\\\">Python (programming language) Category</a>\",\"Icon\":{\"Height\":\"\",\"URL\":\"\",\"Width\":\"\"},\"Text\":\"Python (programming language) Category\"},{\"Text\":\"History of Python - The history of the Python programming language dates back to the late 1980s.\",\"Icon\":{\"URL\":\"\",\"Height\":\"\",\"Width\":\"\"},\"FirstURL\":\"https://duckduckgo.com/History_of_Python\",\"Result\":\"<a href=\\\"https://duckduckgo.com/History_of_Python\\\">History of Python</a> - The history of the Python programming language dates back to the late 1980s.\"},{\"FirstURL\":\"https://duckduckgo.com/Off-side_rule\",\"Result\":\"<a href=\\\"https://duckduckgo.com/Off-side_rule\\\">Off-side rule</a> - A computer programming language is said to adhere to the off-side rule if blocks in that language are expressed by their indentation. The term was coined by Peter J. Landin, after the offside rule in football.\",\"Text\":\"Off-side rule - A computer programming language is said to adhere to the off-side rule if blocks in that language are expressed by their indentation. The term was coined by Peter J. Landin, after the offside rule in football.\",\"Icon\":{\"Width\":\"\",\"Height\":\"\",\"URL\":\"\"}},{\"Result\":\"<a href=\\\"https://duckduckgo.com/c/Computational_notebook\\\">Computational notebook</a>\",\"FirstURL\":\"https://duckduckgo.com/c/Computational_notebook\",\"Icon\":{\"URL\":\"\",\"Height\":\"\",\"Width\":\"\"},\"Text\":\"Computational notebook\"},{\"Text\":\"Text-oriented programming languages\",\"Icon\":{\"Height\":\"\",\"URL\":\"\",\"Width\":\"\"},\"Result\":\"<a href=\\\"https://duckduckgo.com/c/Text-oriented_programming_languages\\\">Text-oriented programming languages</a>\",\"FirstURL\":\"https://duckduckgo.com/c/Text-oriented_programming_languages\"},{\"Text\":\"Class-based programming languages\",\"Icon\":{\"Height\":\"\",\"URL\":\"\",\"Width\":\"\"},\"FirstURL\":\"https://duckduckgo.com/c/Class-based_programming_languages\",\"Result\":\"<a href=\\\"https://duckduckgo.com/c/Class-based_programming_languages\\\">Class-based programming languages</a>\"},{\"Result\":\"<a href=\\\"https://duckduckgo.com/c/High-level_programming_languages\\\">High-level programming languages</a>\",\"FirstURL\":\"https://duckduckgo.com/c/High-level_programming_languages\",\"Text\":\"High-level programming languages\",\"Icon\":{\"URL\":\"\",\"Height\":\"\",\"Width\":\"\"}},{\"Text\":\"Dynamically typed programming languages\",\"Icon\":{\"Height\":\"\",\"URL\":\"\",\"Width\":\"\"},\"Result\":\"<a href=\\\"https://duckduckgo.com/c/Dynamically_typed_programming_languages\\\">Dynamically typed programming languages</a>\",\"FirstURL\":\"https://duckduckgo.com/c/Dynamically_typed_programming_languages\"},{\"Text\":\"Educational programming languages\",\"Icon\":{\"URL\":\"\",\"Height\":\"\",\"Width\":\"\"},\"FirstURL\":\"https://duckduckgo.com/c/Educational_programming_languages\",\"Result\":\"<a href=\\\"https://duckduckgo.com/c/Educational_programming_languages\\\">Educational programming languages</a>\"},{\"FirstURL\":\"https://duckduckgo.com/c/Programming_languages\",\"Result\":\"<a href=\\\"https://duckduckgo.com/c/Programming_languages\\\">Programming languages</a>\",\"Icon\":{\"URL\":\"\",\"Height\":\"\",\"Width\":\"\"},\"Text\":\"Programming languages\"},{\"FirstURL\":\"https://duckduckgo.com/c/Object-oriented_programming_languages\",\"Result\":\"<a href=\\\"https://duckduckgo.com/c/Object-oriented_programming_languages\\\">Object-oriented programming languages</a>\",\"Text\":\"Object-oriented programming languages\",\"Icon\":{\"Height\":\"\",\"URL\":\"\",\"Width\":\"\"}},{\"Icon\":{\"Height\":\"\",\"URL\":\"\",\"Width\":\"\"},\"Text\":\"Dutch inventions\",\"FirstURL\":\"https://duckduckgo.com/c/Dutch_inventions\",\"Result\":\"<a href=\\\"https://duckduckgo.com/c/Dutch_inventions\\\">Dutch inventions</a>\"},{\"Text\":\"Scripting languages\",\"Icon\":{\"Width\":\"\",\"URL\":\"\",\"Height\":\"\"},\"Result\":\"<a href=\\\"https://duckduckgo.com/c/Scripting_languages\\\">Scripting languages</a>\",\"FirstURL\":\"https://duckduckgo.com/c/Scripting_languages\"},{\"Result\":\"<a href=\\\"https://duckduckgo.com/c/Cross-platform_free_software\\\">Cross-platform free software</a>\",\"FirstURL\":\"https://duckduckgo.com/c/Cross-platform_free_software\",\"Icon\":{\"Width\":\"\",\"URL\":\"\",\"Height\":\"\"},\"Text\":\"Cross-platform free software\"},{\"Result\":\"<a href=\\\"https://duckduckgo.com/c/Cross-platform_software\\\">Cross-platform software</a>\",\"FirstURL\":\"https://duckduckgo.com/c/Cross-platform_software\",\"Text\":\"Cross-platform software\",\"Icon\":{\"Width\":\"\",\"Height\":\"\",\"URL\":\"\"}}],\"AbstractURL\":\"https://en.wikipedia.org/wiki/Python_(programming_language)\",\"Type\":\"A\",\"Heading\":\"Python (programming language)\",\"AbstractText\":\"Python is an interpreted high-level programming language for general-purpose programming. Created by Guido van Rossum and first released in 1991, Python has a design philosophy that emphasizes code readability, notably using significant whitespace. It provides constructs that enable clear programming on both small and large scales.\",\"meta\":{\"dev_milestone\":\"live\",\"name\":\"Wikipedia\",\"description\":\"Wikipedia\",\"developer\":[{\"name\":\"DDG Team\",\"url\":\"http://www.duckduckhack.com\",\"type\":\"ddg\"}],\"tab\":\"About\",\"src_name\":\"Wikipedia\",\"attribution\":null,\"blockgroup\":null,\"producer\":null,\"repo\":\"fathead\",\"src_options\":{\"is_mediawiki\":1,\"skip_image_name\":0,\"skip_abstract\":0,\"skip_icon\":0,\"skip_qr\":\"\",\"directory\":\"\",\"language\":\"en\",\"is_fanon\":0,\"is_wikipedia\":1,\"skip_abstract_paren\":0,\"src_info\":\"\",\"min_abstract_length\":\"20\",\"skip_end\":\"0\",\"source_skip\":\"\"},\"signal_from\":\"wikipedia_fathead\",\"unsafe\":0,\"created_date\":null,\"perl_module\":\"DDG::Fathead::Wikipedia\",\"src_url\":null,\"example_query\":\"nikola tesla\",\"js_callback_name\":\"wikipedia\",\"dev_date\":null,\"is_stackexchange\":null,\"live_date\":null,\"status\":\"live\",\"id\":\"wikipedia_fathead\",\"production_state\":\"online\",\"designer\":null,\"topic\":[\"productivity\"],\"src_id\":1,\"maintainer\":{\"github\":\"duckduckgo\"},\"src_domain\":\"en.wikipedia.org\"},\"DefinitionSource\":\"\",\"Image\":\"https://duckduckgo.com/i/a61af354.png\",\"AbstractSource\":\"Wikipedia\",\"AnswerType\":\"\",\"Infobox\":{\"content\":[{\"data_type\":\"string\",\"label\":\"Paradigm\",\"value\":\"Object-oriented, imperative, functional, procedural, reflective\",\"wiki_order\":0},{\"wiki_order\":1,\"value\":\"Guido van Rossum\",\"label\":\"Designed by\",\"data_type\":\"string\"},{\"label\":\"Developer\",\"value\":\"Python Software Foundation\",\"wiki_order\":2,\"data_type\":\"string\"},{\"value\":\"1990\",\"wiki_order\":3,\"label\":\"First appeared\",\"data_type\":\"string\"},{\"value\":\"Duck, dynamic, strong since version 3.5: Gradual\",\"wiki_order\":4,\"label\":\"Typing discipline\",\"data_type\":\"string\"},{\"data_type\":\"string\",\"value\":\"Python Software Foundation License\",\"label\":\"License\",\"wiki_order\":5},{\"data_type\":\"string\",\"wiki_order\":6,\"label\":\"Filename extensions\",\"value\":\"py.pyc.pyd.pyo (prior to 3.5).pyw.pyz (since 3.5)\"},{\"data_type\":\"twitter_profile\",\"wiki_order\":\"102\",\"value\":\"ThePSF\",\"label\":\"Twitter profile\"},{\"data_type\":\"instance\",\"wiki_order\":\"207\",\"label\":\"Instance of\",\"value\":{\"id\":\"Q899523\",\"numeric-id\":899523,\"entity-type\":\"item\"}}],\"meta\":[{\"value\":\"Python (programming language)\",\"label\":\"article_title\",\"data_type\":\"string\"},{\"value\":\"infobox programming language\",\"label\":\"template_name\",\"data_type\":\"string\"}]},\"Redirect\":\"\",\"Results\":[{\"Icon\":{\"Height\":16,\"URL\":\"https://duckduckgo.com/i/python.org.ico\",\"Width\":16},\"Text\":\"Official site\",\"FirstURL\":\"https://www.python.org/\",\"Result\":\"<a href=\\\"https://www.python.org/\\\"><b>Official site</b></a><a href=\\\"https://www.python.org/\\\"></a>\"}],\"Definition\":\"\",\"DefinitionURL\":\"\",\"ImageHeight\":200,\"Abstract\":\"Python is an interpreted high-level programming language for general-purpose programming. Created by Guido van Rossum and first released in 1991, Python has a design philosophy that emphasizes code readability, notably using significant whitespace. It provides constructs that enable clear programming on both small and large scales.\",\"ImageWidth\":676,\"ImageIsLogo\":1,\"Answer\":\"\"},\"official_site\":\"https://www.python.org/\",\"templates\":{\"detail\":\"info_detail\"},\"signal\":\"medium\",\"duckbar_topic\":\"About\",\"url\":\"/Python_(programming_language)?o=json\",\"meta\":{\"blockgroup\":null,\"repo\":\"fathead\",\"producer\":null,\"attribution\":null,\"src_name\":\"Wikipedia\",\"signal_from\":\"wikipedia_fathead\",\"perl_module\":\"DDG::Fathead::Wikipedia\",\"unsafe\":0,\"created_date\":null,\"src_options\":{\"is_mediawiki\":1,\"skip_image_name\":0,\"skip_abstract\":0,\"skip_icon\":0,\"skip_qr\":\"\",\"directory\":\"\",\"language\":\"en\",\"is_wikipedia\":1,\"is_fanon\":0,\"skip_abstract_paren\":0,\"min_abstract_length\":\"20\",\"src_info\":\"\",\"skip_end\":\"0\",\"source_skip\":\"\"},\"developer\":[{\"type\":\"ddg\",\"name\":\"DDG Team\",\"url\":\"http://www.duckduckhack.com\"}],\"name\":\"Wikipedia\",\"description\":\"Wikipedia\",\"dev_milestone\":\"live\",\"tab\":\"About\",\"production_state\":\"online\",\"status\":\"live\",\"id\":\"wikipedia_fathead\",\"live_date\":null,\"designer\":null,\"is_stackexchange\":null,\"maintainer\":{\"github\":\"duckduckgo\"},\"src_domain\":\"en.wikipedia.org\",\"topic\":[\"productivity\"],\"src_id\":1,\"src_url\":null,\"dev_date\":null,\"js_callback_name\":\"wikipedia\",\"example_query\":\"nikola tesla\"}});});</script><script type=\"text/javascript\">DDG.ready(function () {DDG.duckbar.add({\"duckbar_topic\":\"Meanings\",\"meta\":{\"blockgroup\":null,\"repo\":\"fathead\",\"producer\":null,\"attribution\":null,\"src_name\":\"Wikipedia\",\"signal_from\":\"wikipedia_fathead\",\"perl_module\":\"DDG::Fathead::Wikipedia\",\"unsafe\":0,\"created_date\":null,\"src_options\":{\"is_mediawiki\":1,\"skip_image_name\":0,\"skip_abstract\":0,\"skip_icon\":0,\"skip_qr\":\"\",\"directory\":\"\",\"language\":\"en\",\"is_wikipedia\":1,\"is_fanon\":0,\"skip_abstract_paren\":0,\"min_abstract_length\":\"20\",\"src_info\":\"\",\"skip_end\":\"0\",\"source_skip\":\"\"},\"developer\":[{\"type\":\"ddg\",\"name\":\"DDG Team\",\"url\":\"http://www.duckduckhack.com\"}],\"name\":\"Wikipedia\",\"description\":\"Wikipedia\",\"dev_milestone\":\"live\",\"tab\":\"About\",\"production_state\":\"online\",\"status\":\"live\",\"id\":\"wikipedia_fathead\",\"live_date\":null,\"designer\":null,\"is_stackexchange\":null,\"maintainer\":{\"github\":\"duckduckgo\"},\"src_domain\":\"en.wikipedia.org\",\"topic\":[\"productivity\"],\"src_id\":1,\"src_url\":null,\"dev_date\":null,\"js_callback_name\":\"wikipedia\",\"example_query\":\"nikola tesla\"},\"signal\":\"low\",\"pixel_id\":\"meanings\",\"templates\":{\"item\":\"meanings_item\"},\"data\":{\"AnswerType\":\"\",\"Infobox\":\"\",\"meta\":{\"blockgroup\":null,\"repo\":\"fathead\",\"producer\":null,\"attribution\":null,\"src_name\":\"Wikipedia\",\"signal_from\":\"wikipedia_fathead\",\"perl_module\":\"DDG::Fathead::Wikipedia\",\"unsafe\":0,\"created_date\":null,\"src_options\":{\"is_mediawiki\":1,\"skip_image_name\":0,\"skip_abstract\":0,\"skip_icon\":0,\"skip_qr\":\"\",\"directory\":\"\",\"language\":\"en\",\"is_wikipedia\":1,\"is_fanon\":0,\"skip_abstract_paren\":0,\"min_abstract_length\":\"20\",\"src_info\":\"\",\"skip_end\":\"0\",\"source_skip\":\"\"},\"developer\":[{\"type\":\"ddg\",\"name\":\"DDG Team\",\"url\":\"http://www.duckduckhack.com\"}],\"name\":\"Wikipedia\",\"description\":\"Wikipedia\",\"dev_milestone\":\"live\",\"tab\":\"About\",\"production_state\":\"online\",\"status\":\"live\",\"id\":\"wikipedia_fathead\",\"live_date\":null,\"designer\":null,\"is_stackexchange\":null,\"maintainer\":{\"github\":\"duckduckgo\"},\"src_domain\":\"en.wikipedia.org\",\"topic\":[\"productivity\"],\"src_id\":1,\"src_url\":null,\"dev_date\":null,\"js_callback_name\":\"wikipedia\",\"example_query\":\"nikola tesla\"},\"DefinitionSource\":\"\",\"Image\":\"\",\"AbstractSource\":\"Wikipedia\",\"AbstractText\":\"\",\"RelatedTopics\":[{\"Text\":\"Python (programming language) An interpreted high-level programming language for general-purpose programming.\",\"Icon\":{\"Width\":\"\",\"URL\":\"https://duckduckgo.com/i/7eec482b.png\",\"Height\":\"\"},\"FirstURL\":\"/Python_(programming_language)\",\"Result\":\"<a href=\\\"/Python_(programming_language)\\\">Python (programming language)</a>An interpreted high-level programming language for general-purpose programming.\"},{\"Text\":\"Monty Python A British surreal comedy group who created their sketch comedy show Monty Python's Flying Circus...\",\"Icon\":{\"Width\":\"\",\"URL\":\"https://duckduckgo.com/i/4eec9e83.jpg\",\"Height\":\"\"},\"Result\":\"<a href=\\\"/Monty_Python\\\">Monty Python</a>A British surreal comedy group who created their sketch comedy show Monty Python's Flying Circus...\",\"FirstURL\":\"/Monty_Python\"},{\"Text\":\"Colt Python A.357 Magnum caliber revolver formerly manufactured by Colt's Manufacturing Company of Hartford...\",\"Icon\":{\"Width\":\"\",\"Height\":\"\",\"URL\":\"https://duckduckgo.com/i/7e29c05b.jpg\"},\"Result\":\"<a href=\\\"/Colt_Python\\\">Colt Python</a>A.357 Magnum caliber revolver formerly manufactured by Colt's Manufacturing Company of Hartford...\",\"FirstURL\":\"/Colt_Python\"},{\"Name\":\"Snakes\",\"Topics\":[{\"Text\":\"Pythonidae A family of nonvenomous snakes found in Africa, Asia, and Australia.\",\"Icon\":{\"URL\":\"https://duckduckgo.com/i/0035e5d0.jpg\",\"Height\":\"\",\"Width\":\"\"},\"Result\":\"<a href=\\\"/Pythonidae\\\">Pythonidae</a>A family of nonvenomous snakes found in Africa, Asia, and Australia.\",\"FirstURL\":\"/Pythonidae\"},{\"FirstURL\":\"/Python_(genus)\",\"Result\":\"<a href=\\\"/Python_(genus)\\\">Python (genus)</a>A genus of nonvenomous Pythonidae found in Africa and Asia.\",\"Text\":\"Python (genus) A genus of nonvenomous Pythonidae found in Africa and Asia.\",\"Icon\":{\"Width\":\"\",\"URL\":\"https://duckduckgo.com/i/c02fd87b.jpg\",\"Height\":\"\"}}]},{\"Topics\":[{\"FirstURL\":\"/Python_(mythology)\",\"Result\":\"<a href=\\\"/Python_(mythology)\\\">Python (mythology)</a>The serpent, sometimes represented as a dragon, living at the centre of the earth, believed by...\",\"Icon\":{\"Width\":\"\",\"URL\":\"https://duckduckgo.com/i/e8a6c01f.jpg\",\"Height\":\"\"},\"Text\":\"Python (mythology) The serpent, sometimes represented as a dragon, living at the centre of the earth, believed by...\"},{\"Text\":\"Python of Aenus A Roman philosopher and a former student of Socrates.\",\"Icon\":{\"Width\":\"\",\"Height\":\"\",\"URL\":\"\"},\"FirstURL\":\"/Python_of_Aenus\",\"Result\":\"<a href=\\\"/Python_of_Aenus\\\">Python of Aenus</a>A Roman philosopher and a former student of Socrates.\"},{\"Result\":\"<a href=\\\"/Python_(painter)\\\">Python (painter)</a>A Greek vase painter in the city of Poseidonia in Campania, Southern Italy, one of the major...\",\"FirstURL\":\"/Python_(painter)\",\"Text\":\"Python (painter) A Greek vase painter in the city of Poseidonia in Campania, Southern Italy, one of the major...\",\"Icon\":{\"URL\":\"\",\"Height\":\"\",\"Width\":\"\"}},{\"Text\":\"Python of Byzantium An ancient Greek statesman and former student of Isocrates.\",\"Icon\":{\"Height\":\"\",\"URL\":\"\",\"Width\":\"\"},\"Result\":\"<a href=\\\"/Python_of_Byzantium\\\">Python of Byzantium</a>An ancient Greek statesman and former student of Isocrates.\",\"FirstURL\":\"/Python_of_Byzantium\"},{\"Icon\":{\"Height\":\"\",\"URL\":\"\",\"Width\":\"\"},\"Text\":\"Python of Catana A dramatic poet of the time of Alexander, whom he accompanied into Asia, and whose army he...\",\"FirstURL\":\"/Python_of_Catana\",\"Result\":\"<a href=\\\"/Python_of_Catana\\\">Python of Catana</a>A dramatic poet of the time of Alexander, whom he accompanied into Asia, and whose army he...\"}],\"Name\":\"Ancient Greece\"},{\"Topics\":[{\"Icon\":{\"Height\":\"\",\"URL\":\"https://duckduckgo.com/i/21aa3787.jpg\",\"Width\":\"\"},\"Text\":\"Python (film) A 2000 made-for-TV horror movie directed by Richard Clabaugh.\",\"FirstURL\":\"/Python_(film)\",\"Result\":\"<a href=\\\"/Python_(film)\\\">Python (film)</a>A 2000 made-for-TV horror movie directed by Richard Clabaugh.\"},{\"Icon\":{\"URL\":\"https://duckduckgo.com/i/dfe939e5.jpeg\",\"Height\":\"\",\"Width\":\"\"},\"Text\":\"Pythons 2 A science-fiction/horror film released as a Sci Fi Pictures television film on the Sci Fi...\",\"Result\":\"<a href=\\\"/Pythons_2\\\">Pythons 2</a> A science-fiction/horror film released as a Sci Fi Pictures television film on the Sci Fi...\",\"FirstURL\":\"/Pythons_2\"},{\"Text\":\"Python (Monty) Pictures Python Pictures Limited is composed of the five surviving members of the main Monty Python team...\",\"Icon\":{\"URL\":\"\",\"Height\":\"\",\"Width\":\"\"},\"Result\":\"<a href=\\\"/Python_(Monty)_Pictures\\\">Python (Monty) Pictures</a>Python Pictures Limited is composed of the five surviving members of the main Monty Python team...\",\"FirstURL\":\"/Python_(Monty)_Pictures\"}],\"Name\":\"Media and entertainment\"},{\"Topics\":[{\"Text\":\"Python (programming language) An interpreted high-level programming language for general-purpose programming.\",\"Icon\":{\"URL\":\"https://duckduckgo.com/i/7eec482b.png\",\"Height\":\"\",\"Width\":\"\"},\"Result\":\"<a href=\\\"/Python_(programming_language)\\\">Python (programming language)</a>An interpreted high-level programming language for general-purpose programming.\",\"FirstURL\":\"/Python_(programming_language)\"},{\"Icon\":{\"Height\":\"\",\"URL\":\"https://duckduckgo.com/i/7eec482b.png\",\"Width\":\"\"},\"Text\":\"CPython The reference implementation of the Python programming language.\",\"FirstURL\":\"/CPython\",\"Result\":\"<a href=\\\"/CPython\\\">CPython</a>The reference implementation of the Python programming language.\"}],\"Name\":\"Computing\"},{\"Topics\":[{\"Result\":\"<a href=\\\"/Python_(Busch_Gardens_Tampa_Bay)\\\">Python (Busch Gardens Tampa Bay)</a>A steel roller coaster located at Busch Gardens amusement park in Tampa, Florida.\",\"FirstURL\":\"/Python_(Busch_Gardens_Tampa_Bay)\",\"Icon\":{\"URL\":\"https://duckduckgo.com/i/30cba8e6.jpg\",\"Height\":\"\",\"Width\":\"\"},\"Text\":\"Python (Busch Gardens Tampa Bay) A steel roller coaster located at Busch Gardens amusement park in Tampa, Florida.\"},{\"FirstURL\":\"/Python_(Coney_Island%2C_Cincinnati%2C_Ohio)\",\"Result\":\"<a href=\\\"/Python_(Coney_Island%2C_Cincinnati%2C_Ohio)\\\">Python (Coney Island, Cincinnati, Ohio)</a>A D.P.V. Rides designed Zyklon-style steel roller coaster.\",\"Text\":\"Python (Coney Island, Cincinnati, Ohio) A D.P.V. Rides designed Zyklon-style steel roller coaster.\",\"Icon\":{\"URL\":\"\",\"Height\":\"\",\"Width\":\"\"}},{\"Result\":\"<a href=\\\"/Python_(Efteling)\\\">Python (Efteling)</a>A double-loop corkscrew roller coaster in the Efteling amusement park in the Netherlands.\",\"FirstURL\":\"/Python_(Efteling)\",\"Icon\":{\"URL\":\"https://duckduckgo.com/i/250a54c9.jpg\",\"Height\":\"\",\"Width\":\"\"},\"Text\":\"Python (Efteling) A double-loop corkscrew roller coaster in the Efteling amusement park in the Netherlands.\"},{\"Icon\":{\"Height\":\"\",\"URL\":\"\",\"Width\":\"\"},\"Text\":\"Python (automobile maker) A Cobra replica automobile company based in Melbourne, Australia.\",\"Result\":\"<a href=\\\"/Python_(automobile_maker)\\\">Python (automobile maker)</a>A Cobra replica automobile company based in Melbourne, Australia.\",\"FirstURL\":\"/Python_(automobile_maker)\"},{\"Text\":\"Python (Ford prototype) A relatively unknown car.\",\"Icon\":{\"Width\":\"\",\"Height\":\"\",\"URL\":\"\"},\"FirstURL\":\"/Python_(Ford_prototype)\",\"Result\":\"<a href=\\\"/Python_(Ford_prototype)\\\">Python (Ford prototype)</a>A relatively unknown car.\"},{\"Text\":\"Colt Python A.357 Magnum caliber revolver formerly manufactured by Colt's Manufacturing Company of Hartford...\",\"Icon\":{\"Height\":\"\",\"URL\":\"https://duckduckgo.com/i/7e29c05b.jpg\",\"Width\":\"\"},\"FirstURL\":\"/Colt_Python\",\"Result\":\"<a href=\\\"/Colt_Python\\\">Colt Python</a>A.357 Magnum caliber revolver formerly manufactured by Colt's Manufacturing Company of Hartford...\"},{\"Icon\":{\"Width\":\"\",\"URL\":\"https://duckduckgo.com/i/d13eb4ef.jpg\",\"Height\":\"\"},\"Text\":\"Python (missile) A family of air-to-air missiles built by the Israeli weapons manufacturer Rafael Advanced Defense...\",\"FirstURL\":\"/Python_(missile)\",\"Result\":\"<a href=\\\"/Python_(missile)\\\">Python (missile)</a>A family of air-to-air missiles built by the Israeli weapons manufacturer Rafael Advanced Defense...\"}],\"Name\":\"Engineering\"},{\"Topics\":[{\"Result\":\"<a href=\\\"/Cython\\\">Cython</a>A superset of the Python programming language, designed to give C-like performance with code that...\",\"FirstURL\":\"/Cython\",\"Icon\":{\"URL\":\"https://duckduckgo.com/i/a10250b9.png\",\"Height\":\"\",\"Width\":\"\"},\"Text\":\"Cython A superset of the Python programming language, designed to give C-like performance with code that...\"},{\"Text\":\"Pyton A Norwegian comic book series which was produced by the company Gevion, and afterwards...\",\"Icon\":{\"Width\":\"\",\"URL\":\"\",\"Height\":\"\"},\"Result\":\"<a href=\\\"/Pyton\\\">Pyton</a> A Norwegian comic book series which was produced by the company Gevion, and afterwards...\",\"FirstURL\":\"/Pyton\"}],\"Name\":\"See also\"}],\"AbstractURL\":\"https://en.wikipedia.org/wiki/Python\",\"Heading\":\"Python\",\"Type\":\"D\",\"Entity\":\"\",\"Answer\":\"\",\"ImageIsLogo\":0,\"ImageWidth\":0,\"Abstract\":\"\",\"ImageHeight\":0,\"DefinitionURL\":\"\",\"Results\":[],\"Definition\":\"\",\"Redirect\":\"\"},\"model\":\"FatheadListItem\"});});</script><script type=\"text/javascript\">DDG.page = new DDG.Pages.SERP({ showSafeSearch: 0, instantAnswerAds: false });</script><div id=\"z2\"> </div><div id=\"z\"></div></body></html>"
      ]
     },
     "execution_count": 4,
     "metadata": {},
     "output_type": "execute_result"
    }
   ],
   "source": [
    "sh.rm('-f', 'search.html')\n",
    "sh.curl('https://duckduckgo.com/?q=python', '-o', 'search.html', '--silent')\n",
    "sh.cat('search.html')"
   ]
  },
  {
   "cell_type": "markdown",
   "metadata": {},
   "source": [
    "#### That's the basics\n",
    "Lets clean up and move on"
   ]
  },
  {
   "cell_type": "code",
   "execution_count": 5,
   "metadata": {},
   "outputs": [
    {
     "data": {
      "text/plain": []
     },
     "execution_count": 5,
     "metadata": {},
     "output_type": "execute_result"
    }
   ],
   "source": [
    "sh.rm('-f', 'search.html')"
   ]
  },
  {
   "cell_type": "markdown",
   "metadata": {},
   "source": [
    "## Dealing with Failure\n",
    "\n",
    "sh commands can fail like any other. When they do, sh raises a python exception"
   ]
  },
  {
   "cell_type": "code",
   "execution_count": 6,
   "metadata": {},
   "outputs": [
    {
     "ename": "ErrorReturnCode_1",
     "evalue": "\n\n  RAN: /bin/rm this_file_does_not_exist.txt\n\n  STDOUT:\n\n\n  STDERR:\nrm: this_file_does_not_exist.txt: No such file or directory\n",
     "output_type": "error",
     "traceback": [
      "\u001b[0;31m---------------------------------------------------------------------------\u001b[0m",
      "\u001b[0;31mErrorReturnCode_1\u001b[0m                         Traceback (most recent call last)",
      "\u001b[0;32m<ipython-input-6-31c9b18fb528>\u001b[0m in \u001b[0;36m<module>\u001b[0;34m\u001b[0m\n\u001b[1;32m      1\u001b[0m \u001b[0;31m# Try to remove a file that does not exist... raises an Exception\u001b[0m\u001b[0;34m\u001b[0m\u001b[0;34m\u001b[0m\u001b[0;34m\u001b[0m\u001b[0m\n\u001b[0;32m----> 2\u001b[0;31m \u001b[0msh\u001b[0m\u001b[0;34m.\u001b[0m\u001b[0mrm\u001b[0m\u001b[0;34m(\u001b[0m\u001b[0;34m'this_file_does_not_exist.txt'\u001b[0m\u001b[0;34m)\u001b[0m\u001b[0;34m\u001b[0m\u001b[0;34m\u001b[0m\u001b[0m\n\u001b[0m",
      "\u001b[0;32m~/Dropbox (Sharpertool)/BAPUG/presentations/sh_April_2019/.venv3/lib/python3.7/site-packages/sh.py\u001b[0m in \u001b[0;36m__call__\u001b[0;34m(self, *args, **kwargs)\u001b[0m\n\u001b[1;32m   1425\u001b[0m             \u001b[0mstderr\u001b[0m \u001b[0;34m=\u001b[0m \u001b[0mopen\u001b[0m\u001b[0;34m(\u001b[0m\u001b[0mstr\u001b[0m\u001b[0;34m(\u001b[0m\u001b[0mstderr\u001b[0m\u001b[0;34m)\u001b[0m\u001b[0;34m,\u001b[0m \u001b[0;34m\"wb\"\u001b[0m\u001b[0;34m)\u001b[0m\u001b[0;34m\u001b[0m\u001b[0;34m\u001b[0m\u001b[0m\n\u001b[1;32m   1426\u001b[0m \u001b[0;34m\u001b[0m\u001b[0m\n\u001b[0;32m-> 1427\u001b[0;31m         \u001b[0;32mreturn\u001b[0m \u001b[0mRunningCommand\u001b[0m\u001b[0;34m(\u001b[0m\u001b[0mcmd\u001b[0m\u001b[0;34m,\u001b[0m \u001b[0mcall_args\u001b[0m\u001b[0;34m,\u001b[0m \u001b[0mstdin\u001b[0m\u001b[0;34m,\u001b[0m \u001b[0mstdout\u001b[0m\u001b[0;34m,\u001b[0m \u001b[0mstderr\u001b[0m\u001b[0;34m)\u001b[0m\u001b[0;34m\u001b[0m\u001b[0;34m\u001b[0m\u001b[0m\n\u001b[0m\u001b[1;32m   1428\u001b[0m \u001b[0;34m\u001b[0m\u001b[0m\n\u001b[1;32m   1429\u001b[0m \u001b[0;34m\u001b[0m\u001b[0m\n",
      "\u001b[0;32m~/Dropbox (Sharpertool)/BAPUG/presentations/sh_April_2019/.venv3/lib/python3.7/site-packages/sh.py\u001b[0m in \u001b[0;36m__init__\u001b[0;34m(self, cmd, call_args, stdin, stdout, stderr)\u001b[0m\n\u001b[1;32m    772\u001b[0m \u001b[0;34m\u001b[0m\u001b[0m\n\u001b[1;32m    773\u001b[0m             \u001b[0;32mif\u001b[0m \u001b[0mshould_wait\u001b[0m\u001b[0;34m:\u001b[0m\u001b[0;34m\u001b[0m\u001b[0;34m\u001b[0m\u001b[0m\n\u001b[0;32m--> 774\u001b[0;31m                 \u001b[0mself\u001b[0m\u001b[0;34m.\u001b[0m\u001b[0mwait\u001b[0m\u001b[0;34m(\u001b[0m\u001b[0;34m)\u001b[0m\u001b[0;34m\u001b[0m\u001b[0;34m\u001b[0m\u001b[0m\n\u001b[0m\u001b[1;32m    775\u001b[0m \u001b[0;34m\u001b[0m\u001b[0m\n\u001b[1;32m    776\u001b[0m \u001b[0;34m\u001b[0m\u001b[0m\n",
      "\u001b[0;32m~/Dropbox (Sharpertool)/BAPUG/presentations/sh_April_2019/.venv3/lib/python3.7/site-packages/sh.py\u001b[0m in \u001b[0;36mwait\u001b[0;34m(self)\u001b[0m\n\u001b[1;32m    790\u001b[0m \u001b[0;34m\u001b[0m\u001b[0m\n\u001b[1;32m    791\u001b[0m             \u001b[0;32melse\u001b[0m\u001b[0;34m:\u001b[0m\u001b[0;34m\u001b[0m\u001b[0;34m\u001b[0m\u001b[0m\n\u001b[0;32m--> 792\u001b[0;31m                 \u001b[0mself\u001b[0m\u001b[0;34m.\u001b[0m\u001b[0mhandle_command_exit_code\u001b[0m\u001b[0;34m(\u001b[0m\u001b[0mexit_code\u001b[0m\u001b[0;34m)\u001b[0m\u001b[0;34m\u001b[0m\u001b[0;34m\u001b[0m\u001b[0m\n\u001b[0m\u001b[1;32m    793\u001b[0m \u001b[0;34m\u001b[0m\u001b[0m\n\u001b[1;32m    794\u001b[0m                 \u001b[0;31m# if an iterable command is using an instance of OProc for its stdin,\u001b[0m\u001b[0;34m\u001b[0m\u001b[0;34m\u001b[0m\u001b[0;34m\u001b[0m\u001b[0m\n",
      "\u001b[0;32m~/Dropbox (Sharpertool)/BAPUG/presentations/sh_April_2019/.venv3/lib/python3.7/site-packages/sh.py\u001b[0m in \u001b[0;36mhandle_command_exit_code\u001b[0;34m(self, code)\u001b[0m\n\u001b[1;32m    813\u001b[0m             exc = exc_class(self.ran, self.process.stdout, self.process.stderr,\n\u001b[1;32m    814\u001b[0m                     ca[\"truncate_exc\"])\n\u001b[0;32m--> 815\u001b[0;31m             \u001b[0;32mraise\u001b[0m \u001b[0mexc\u001b[0m\u001b[0;34m\u001b[0m\u001b[0;34m\u001b[0m\u001b[0m\n\u001b[0m\u001b[1;32m    816\u001b[0m \u001b[0;34m\u001b[0m\u001b[0m\n\u001b[1;32m    817\u001b[0m \u001b[0;34m\u001b[0m\u001b[0m\n",
      "\u001b[0;31mErrorReturnCode_1\u001b[0m: \n\n  RAN: /bin/rm this_file_does_not_exist.txt\n\n  STDOUT:\n\n\n  STDERR:\nrm: this_file_does_not_exist.txt: No such file or directory\n"
     ]
    }
   ],
   "source": [
    "# Try to remove a file that does not exist... raises an Exception\n",
    "sh.rm('this_file_does_not_exist.txt')"
   ]
  },
  {
   "cell_type": "markdown",
   "metadata": {},
   "source": [
    "### sh Exceptions\n",
    "\n",
    "Normal processes in shell exit with a code of 0\n"
   ]
  },
  {
   "cell_type": "code",
   "execution_count": 7,
   "metadata": {},
   "outputs": [
    {
     "name": "stdout",
     "output_type": "stream",
     "text": [
      "0\n"
     ]
    }
   ],
   "source": [
    "output = sh.echo('Hello, World')\n",
    "print(output.exit_code)"
   ]
  },
  {
   "cell_type": "markdown",
   "metadata": {},
   "source": [
    "### In *general* shell scripts output non-zero codes to indicate failure\n",
    "Sometimes, the rules don't apply. \n",
    "\n",
    "When a command fails though, we might want to catch it. If we know the code number it will return, we can catch that explicitely"
   ]
  },
  {
   "cell_type": "code",
   "execution_count": 8,
   "metadata": {},
   "outputs": [
    {
     "name": "stdout",
     "output_type": "stream",
     "text": [
      "Caught the excetion #1\n"
     ]
    }
   ],
   "source": [
    "try:\n",
    "    sh.rm('search.html')\n",
    "except sh.ErrorReturnCode_1:\n",
    "    print(f\"Caught the excetion #1\")"
   ]
  },
  {
   "cell_type": "code",
   "execution_count": null,
   "metadata": {},
   "outputs": [],
   "source": [
    "If we have multiple exit codes, or don't know what the exit code is, we can catch a general exception.\n",
    "Here are some examples of different exist codes."
   ]
  },
  {
   "cell_type": "code",
   "execution_count": 9,
   "metadata": {},
   "outputs": [
    {
     "name": "stdout",
     "output_type": "stream",
     "text": [
      "I caught code 2\n"
     ]
    }
   ],
   "source": [
    "try:\n",
    "    sh.raiseme('2')\n",
    "except sh.ErrorReturnCode_2:\n",
    "    print(\"I caught code 2\")"
   ]
  },
  {
   "cell_type": "markdown",
   "metadata": {},
   "source": [
    "But, maybe it's not 2"
   ]
  },
  {
   "cell_type": "code",
   "execution_count": 10,
   "metadata": {},
   "outputs": [
    {
     "name": "stdout",
     "output_type": "stream",
     "text": [
      "Unknown Exit code, but it's not 0 and it's not 2!\n"
     ]
    }
   ],
   "source": [
    "try:\n",
    "    sh.raiseme('3')\n",
    "except sh.ErrorReturnCode_2:\n",
    "    print(\"Exit code 2\")\n",
    "except sh.ErrorReturnCode:\n",
    "    print(\"Unknown Exit code, but it's not 0 and it's not 2!\")"
   ]
  },
  {
   "cell_type": "markdown",
   "metadata": {},
   "source": [
    "### sh also handles Signals\n",
    "But I'm not going to cover that. Kind of advanced, and not need __most of the time__."
   ]
  },
  {
   "cell_type": "markdown",
   "metadata": {},
   "source": [
    "## Command Rediction\n",
    "\n",
    "You can't work on the unix shell withou some sort of redirection. \n",
    "sh has _out to allow you to re-direct output of a command to a file, a file-like object, or a function. \n",
    "I don't want to dive into that too much, as it can get complex with the different options.\n",
    "\n",
    "There are also two was to do it, kind of."
   ]
  },
  {
   "cell_type": "code",
   "execution_count": 11,
   "metadata": {},
   "outputs": [
    {
     "name": "stdout",
     "output_type": "stream",
     "text": [
      "lo0: flags=8049<UP,LOOPBACK,RUNNING,MULTICAST> mtu 16384\n",
      "\toptions=1203<RXCSUM,TXCSUM,TXSTATUS,SW_TIMESTAMP>\n",
      "\tinet 127.0.0.1 netmask 0xff000000 \n",
      "\tinet6 ::1 prefixlen 128 \n",
      "\tinet6 fe80::1%lo0 prefixlen 64 scopeid 0x1 \n",
      "\tnd6 options=201<PERFORMNUD,DAD>\n",
      "gif0: flags=8010<POINTOPOINT,MULTICAST> mtu 1280\n",
      "stf0: flags=0<> mtu 1280\n",
      "XHC1: flags=0<> mtu 0\n",
      "XHC0: flags=0<> mtu 0\n",
      "XHC20: flags=0<> mtu 0\n",
      "en0: flags=8863<UP,BROADCAST,SMART,RUNNING,SIMPLEX,MULTICAST> mtu 1500\n",
      "\tether 8c:85:90:1a:d6:04 \n",
      "\tinet6 fe80::10ff:2840:724c:2bf1%en0 prefixlen 64 secured scopeid 0x8 \n",
      "\tinet 192.168.2.43 netmask 0xffffff00 broadcast 192.168.2.255\n",
      "\tnd6 options=201<PERFORMNUD,DAD>\n",
      "\tmedia: autoselect\n",
      "\tstatus: active\n",
      "en3: flags=8963<UP,BROADCAST,SMART,RUNNING,PROMISC,SIMPLEX,MULTICAST> mtu 1500\n",
      "\toptions=60<TSO4,TSO6>\n",
      "\tether 7a:00:4c:90:78:01 \n",
      "\tmedia: autoselect <full-duplex>\n",
      "\tstatus: inactive\n",
      "en1: flags=8963<UP,BROADCAST,SMART,RUNNING,PROMISC,SIMPLEX,MULTICAST> mtu 1500\n",
      "\toptions=60<TSO4,TSO6>\n",
      "\tether 7a:00:4c:90:78:00 \n",
      "\tmedia: autoselect <full-duplex>\n",
      "\tstatus: inactive\n",
      "en4: flags=8963<UP,BROADCAST,SMART,RUNNING,PROMISC,SIMPLEX,MULTICAST> mtu 1500\n",
      "\toptions=60<TSO4,TSO6>\n",
      "\tether 7a:00:4c:90:78:05 \n",
      "\tmedia: autoselect <full-duplex>\n",
      "\tstatus: inactive\n",
      "en2: flags=8963<UP,BROADCAST,SMART,RUNNING,PROMISC,SIMPLEX,MULTICAST> mtu 1500\n",
      "\toptions=60<TSO4,TSO6>\n",
      "\tether 7a:00:4c:90:78:04 \n",
      "\tmedia: autoselect <full-duplex>\n",
      "\tstatus: inactive\n",
      "p2p0: flags=8843<UP,BROADCAST,RUNNING,SIMPLEX,MULTICAST> mtu 2304\n",
      "\tether 0e:85:90:1a:d6:04 \n",
      "\tmedia: autoselect\n",
      "\tstatus: inactive\n",
      "bridge0: flags=8863<UP,BROADCAST,SMART,RUNNING,SIMPLEX,MULTICAST> mtu 1500\n",
      "\toptions=63<RXCSUM,TXCSUM,TSO4,TSO6>\n",
      "\tether 7a:00:4c:90:78:00 \n",
      "\tConfiguration:\n",
      "\t\tid 0:0:0:0:0:0 priority 0 hellotime 0 fwddelay 0\n",
      "\t\tmaxage 0 holdcnt 0 proto stp maxaddr 100 timeout 1200\n",
      "\t\troot id 0:0:0:0:0:0 priority 0 ifcost 0 port 0\n",
      "\t\tipfilter disabled flags 0x2\n",
      "\tmember: en1 flags=3<LEARNING,DISCOVER>\n",
      "\t        ifmaxaddr 0 port 10 priority 0 path cost 0\n",
      "\tmember: en2 flags=3<LEARNING,DISCOVER>\n",
      "\t        ifmaxaddr 0 port 12 priority 0 path cost 0\n",
      "\tmember: en3 flags=3<LEARNING,DISCOVER>\n",
      "\t        ifmaxaddr 0 port 9 priority 0 path cost 0\n",
      "\tmember: en4 flags=3<LEARNING,DISCOVER>\n",
      "\t        ifmaxaddr 0 port 11 priority 0 path cost 0\n",
      "\tnd6 options=201<PERFORMNUD,DAD>\n",
      "\tmedia: <unknown type>\n",
      "\tstatus: inactive\n",
      "awdl0: flags=8943<UP,BROADCAST,RUNNING,PROMISC,SIMPLEX,MULTICAST> mtu 1484\n",
      "\tether 4e:18:c9:bb:5f:ee \n",
      "\tinet6 fe80::4c18:c9ff:febb:5fee%awdl0 prefixlen 64 scopeid 0xf \n",
      "\tnd6 options=201<PERFORMNUD,DAD>\n",
      "\tmedia: autoselect\n",
      "\tstatus: active\n",
      "utun0: flags=8051<UP,POINTOPOINT,RUNNING,MULTICAST> mtu 2000\n",
      "\tinet6 fe80::1a59:f96a:ca8b:f5e8%utun0 prefixlen 64 scopeid 0x10 \n",
      "\tnd6 options=201<PERFORMNUD,DAD>\n",
      "utun1: flags=8051<UP,POINTOPOINT,RUNNING,MULTICAST> mtu 1380\n",
      "\tinet6 fe80::edfe:2370:46c7:6009%utun1 prefixlen 64 scopeid 0x11 \n",
      "\tnd6 options=201<PERFORMNUD,DAD>\n",
      "utun2: flags=8051<UP,POINTOPOINT,RUNNING,MULTICAST> mtu 1380\n",
      "\tinet6 fe80::7350:7ffb:5464:66e0%utun2 prefixlen 64 scopeid 0x12 \n",
      "\tnd6 options=201<PERFORMNUD,DAD>\n",
      "utun3: flags=8051<UP,POINTOPOINT,RUNNING,MULTICAST> mtu 1380\n",
      "\tinet6 fe80::b8dd:8799:a77f:4c37%utun3 prefixlen 64 scopeid 0x13 \n",
      "\tnd6 options=201<PERFORMNUD,DAD>\n",
      "utun4: flags=8051<UP,POINTOPOINT,RUNNING,MULTICAST> mtu 1380\n",
      "\tinet6 fe80::cb0d:ec39:99e4:6e65%utun4 prefixlen 64 scopeid 0x14 \n",
      "\tnd6 options=201<PERFORMNUD,DAD>\n",
      "utun5: flags=8051<UP,POINTOPOINT,RUNNING,MULTICAST> mtu 2000\n",
      "\tinet6 fe80::bb8b:bd74:a7c8:f93a%utun5 prefixlen 64 scopeid 0x15 \n",
      "\tnd6 options=201<PERFORMNUD,DAD>\n",
      "utun6: flags=8051<UP,POINTOPOINT,RUNNING,MULTICAST> mtu 1380\n",
      "\tinet6 fe80::d132:6937:d6d7:5b8b%utun6 prefixlen 64 scopeid 0x16 \n",
      "\tnd6 options=201<PERFORMNUD,DAD>\n",
      "utun7: flags=8051<UP,POINTOPOINT,RUNNING,MULTICAST> mtu 1380\n",
      "\tinet6 fe80::4a2d:69d4:48d3:a86f%utun7 prefixlen 64 scopeid 0x17 \n",
      "\tnd6 options=201<PERFORMNUD,DAD>\n",
      "utun8: flags=8051<UP,POINTOPOINT,RUNNING,MULTICAST> mtu 1380\n",
      "\tinet6 fe80::9059:731e:f415:47e3%utun8 prefixlen 64 scopeid 0x18 \n",
      "\tnd6 options=201<PERFORMNUD,DAD>\n",
      "utun9: flags=8051<UP,POINTOPOINT,RUNNING,MULTICAST> mtu 1380\n",
      "\tinet6 fe80::e82:8a60:f37a:71fc%utun9 prefixlen 64 scopeid 0x19 \n",
      "\tnd6 options=201<PERFORMNUD,DAD>\n",
      "en5: flags=8863<UP,BROADCAST,SMART,RUNNING,SIMPLEX,MULTICAST> mtu 1500\n",
      "\tether ac:de:48:00:11:22 \n",
      "\tinet6 fe80::aede:48ff:fe00:1122%en5 prefixlen 64 scopeid 0x7 \n",
      "\tnd6 options=201<PERFORMNUD,DAD>\n",
      "\tmedia: autoselect\n",
      "\tstatus: active\n",
      "\n"
     ]
    }
   ],
   "source": [
    "print(sh.ifconfig())"
   ]
  },
  {
   "cell_type": "code",
   "execution_count": 12,
   "metadata": {},
   "outputs": [
    {
     "data": {
      "text/plain": [
       "lo0: flags=8049<UP,LOOPBACK,RUNNING,MULTICAST> mtu 16384\n",
       "\toptions=1203<RXCSUM,TXCSUM,TXSTATUS,SW_TIMESTAMP>\n",
       "\tinet 127.0.0.1 netmask 0xff000000 \n",
       "\tinet6 ::1 prefixlen 128 \n",
       "\tinet6 fe80::1%lo0 prefixlen 64 scopeid 0x1 \n",
       "\tnd6 options=201<PERFORMNUD,DAD>\n",
       "gif0: flags=8010<POINTOPOINT,MULTICAST> mtu 1280\n",
       "stf0: flags=0<> mtu 1280\n",
       "XHC1: flags=0<> mtu 0\n",
       "XHC0: flags=0<> mtu 0\n",
       "XHC20: flags=0<> mtu 0\n",
       "en0: flags=8863<UP,BROADCAST,SMART,RUNNING,SIMPLEX,MULTICAST> mtu 1500\n",
       "\tether 8c:85:90:1a:d6:04 \n",
       "\tinet6 fe80::10ff:2840:724c:2bf1%en0 prefixlen 64 secured scopeid 0x8 \n",
       "\tinet 192.168.2.43 netmask 0xffffff00 broadcast 192.168.2.255\n",
       "\tnd6 options=201<PERFORMNUD,DAD>\n",
       "\tmedia: autoselect\n",
       "\tstatus: active\n",
       "en3: flags=8963<UP,BROADCAST,SMART,RUNNING,PROMISC,SIMPLEX,MULTICAST> mtu 1500\n",
       "\toptions=60<TSO4,TSO6>\n",
       "\tether 7a:00:4c:90:78:01 \n",
       "\tmedia: autoselect <full-duplex>\n",
       "\tstatus: inactive\n",
       "en1: flags=8963<UP,BROADCAST,SMART,RUNNING,PROMISC,SIMPLEX,MULTICAST> mtu 1500\n",
       "\toptions=60<TSO4,TSO6>\n",
       "\tether 7a:00:4c:90:78:00 \n",
       "\tmedia: autoselect <full-duplex>\n",
       "\tstatus: inactive\n",
       "en4: flags=8963<UP,BROADCAST,SMART,RUNNING,PROMISC,SIMPLEX,MULTICAST> mtu 1500\n",
       "\toptions=60<TSO4,TSO6>\n",
       "\tether 7a:00:4c:90:78:05 \n",
       "\tmedia: autoselect <full-duplex>\n",
       "\tstatus: inactive\n",
       "en2: flags=8963<UP,BROADCAST,SMART,RUNNING,PROMISC,SIMPLEX,MULTICAST> mtu 1500\n",
       "\toptions=60<TSO4,TSO6>\n",
       "\tether 7a:00:4c:90:78:04 \n",
       "\tmedia: autoselect <full-duplex>\n",
       "\tstatus: inactive\n",
       "p2p0: flags=8843<UP,BROADCAST,RUNNING,SIMPLEX,MULTICAST> mtu 2304\n",
       "\tether 0e:85:90:1a:d6:04 \n",
       "\tmedia: autoselect\n",
       "\tstatus: inactive\n",
       "bridge0: flags=8863<UP,BROADCAST,SMART,RUNNING,SIMPLEX,MULTICAST> mtu 1500\n",
       "\toptions=63<RXCSUM,TXCSUM,TSO4,TSO6>\n",
       "\tether 7a:00:4c:90:78:00 \n",
       "\tConfiguration:\n",
       "\t\tid 0:0:0:0:0:0 priority 0 hellotime 0 fwddelay 0\n",
       "\t\tmaxage 0 holdcnt 0 proto stp maxaddr 100 timeout 1200\n",
       "\t\troot id 0:0:0:0:0:0 priority 0 ifcost 0 port 0\n",
       "\t\tipfilter disabled flags 0x2\n",
       "\tmember: en1 flags=3<LEARNING,DISCOVER>\n",
       "\t        ifmaxaddr 0 port 10 priority 0 path cost 0\n",
       "\tmember: en2 flags=3<LEARNING,DISCOVER>\n",
       "\t        ifmaxaddr 0 port 12 priority 0 path cost 0\n",
       "\tmember: en3 flags=3<LEARNING,DISCOVER>\n",
       "\t        ifmaxaddr 0 port 9 priority 0 path cost 0\n",
       "\tmember: en4 flags=3<LEARNING,DISCOVER>\n",
       "\t        ifmaxaddr 0 port 11 priority 0 path cost 0\n",
       "\tnd6 options=201<PERFORMNUD,DAD>\n",
       "\tmedia: <unknown type>\n",
       "\tstatus: inactive\n",
       "awdl0: flags=8943<UP,BROADCAST,RUNNING,PROMISC,SIMPLEX,MULTICAST> mtu 1484\n",
       "\tether 4e:18:c9:bb:5f:ee \n",
       "\tinet6 fe80::4c18:c9ff:febb:5fee%awdl0 prefixlen 64 scopeid 0xf \n",
       "\tnd6 options=201<PERFORMNUD,DAD>\n",
       "\tmedia: autoselect\n",
       "\tstatus: active\n",
       "utun0: flags=8051<UP,POINTOPOINT,RUNNING,MULTICAST> mtu 2000\n",
       "\tinet6 fe80::1a59:f96a:ca8b:f5e8%utun0 prefixlen 64 scopeid 0x10 \n",
       "\tnd6 options=201<PERFORMNUD,DAD>\n",
       "utun1: flags=8051<UP,POINTOPOINT,RUNNING,MULTICAST> mtu 1380\n",
       "\tinet6 fe80::edfe:2370:46c7:6009%utun1 prefixlen 64 scopeid 0x11 \n",
       "\tnd6 options=201<PERFORMNUD,DAD>\n",
       "utun2: flags=8051<UP,POINTOPOINT,RUNNING,MULTICAST> mtu 1380\n",
       "\tinet6 fe80::7350:7ffb:5464:66e0%utun2 prefixlen 64 scopeid 0x12 \n",
       "\tnd6 options=201<PERFORMNUD,DAD>\n",
       "utun3: flags=8051<UP,POINTOPOINT,RUNNING,MULTICAST> mtu 1380\n",
       "\tinet6 fe80::b8dd:8799:a77f:4c37%utun3 prefixlen 64 scopeid 0x13 \n",
       "\tnd6 options=201<PERFORMNUD,DAD>\n",
       "utun4: flags=8051<UP,POINTOPOINT,RUNNING,MULTICAST> mtu 1380\n",
       "\tinet6 fe80::cb0d:ec39:99e4:6e65%utun4 prefixlen 64 scopeid 0x14 \n",
       "\tnd6 options=201<PERFORMNUD,DAD>\n",
       "utun5: flags=8051<UP,POINTOPOINT,RUNNING,MULTICAST> mtu 2000\n",
       "\tinet6 fe80::bb8b:bd74:a7c8:f93a%utun5 prefixlen 64 scopeid 0x15 \n",
       "\tnd6 options=201<PERFORMNUD,DAD>\n",
       "utun6: flags=8051<UP,POINTOPOINT,RUNNING,MULTICAST> mtu 1380\n",
       "\tinet6 fe80::d132:6937:d6d7:5b8b%utun6 prefixlen 64 scopeid 0x16 \n",
       "\tnd6 options=201<PERFORMNUD,DAD>\n",
       "utun7: flags=8051<UP,POINTOPOINT,RUNNING,MULTICAST> mtu 1380\n",
       "\tinet6 fe80::4a2d:69d4:48d3:a86f%utun7 prefixlen 64 scopeid 0x17 \n",
       "\tnd6 options=201<PERFORMNUD,DAD>\n",
       "utun8: flags=8051<UP,POINTOPOINT,RUNNING,MULTICAST> mtu 1380\n",
       "\tinet6 fe80::9059:731e:f415:47e3%utun8 prefixlen 64 scopeid 0x18 \n",
       "\tnd6 options=201<PERFORMNUD,DAD>\n",
       "utun9: flags=8051<UP,POINTOPOINT,RUNNING,MULTICAST> mtu 1380\n",
       "\tinet6 fe80::e82:8a60:f37a:71fc%utun9 prefixlen 64 scopeid 0x19 \n",
       "\tnd6 options=201<PERFORMNUD,DAD>\n",
       "en5: flags=8863<UP,BROADCAST,SMART,RUNNING,SIMPLEX,MULTICAST> mtu 1500\n",
       "\tether ac:de:48:00:11:22 \n",
       "\tinet6 fe80::aede:48ff:fe00:1122%en5 prefixlen 64 scopeid 0x7 \n",
       "\tnd6 options=201<PERFORMNUD,DAD>\n",
       "\tmedia: autoselect\n",
       "\tstatus: active"
      ]
     },
     "execution_count": 12,
     "metadata": {},
     "output_type": "execute_result"
    }
   ],
   "source": [
    "fout='ifconfig.out'\n",
    "sh.ifconfig(_out=fout)\n",
    "sh.cat(fout)"
   ]
  },
  {
   "cell_type": "code",
   "execution_count": 13,
   "metadata": {},
   "outputs": [
    {
     "data": {
      "text/plain": []
     },
     "execution_count": 13,
     "metadata": {},
     "output_type": "execute_result"
    }
   ],
   "source": [
    "# Clean-up\n",
    "sh.rm(fout)"
   ]
  },
  {
   "cell_type": "markdown",
   "metadata": {},
   "source": [
    "## Baking without the sugar\n",
    "\n",
    "Some commands are long, and we use the same arguments over and over again.\n",
    "In situations like this, we can 'bake' a command. \n"
   ]
  },
  {
   "cell_type": "code",
   "execution_count": 14,
   "metadata": {},
   "outputs": [
    {
     "data": {
      "text/plain": [
       "On branch master\n",
       "Your branch is up to date with 'origin/master'.\n",
       "\n",
       "nothing to commit, working tree clean"
      ]
     },
     "execution_count": 14,
     "metadata": {},
     "output_type": "execute_result"
    }
   ],
   "source": [
    "sh.git('status')"
   ]
  },
  {
   "cell_type": "markdown",
   "metadata": {},
   "source": [
    "But, that's so many charcters.. "
   ]
  },
  {
   "cell_type": "code",
   "execution_count": 15,
   "metadata": {},
   "outputs": [
    {
     "data": {
      "text/plain": [
       "On branch master\n",
       "Your branch is up to date with 'origin/master'.\n",
       "\n",
       "nothing to commit, working tree clean"
      ]
     },
     "execution_count": 15,
     "metadata": {},
     "output_type": "execute_result"
    }
   ],
   "source": [
    "from sh import git\n",
    "git('status')"
   ]
  },
  {
   "cell_type": "markdown",
   "metadata": {},
   "source": [
    "That is *so* much better! ;-)\n",
    "\n",
    "But, we can do more. If you are familiar with partial application, this will look familiarj"
   ]
  },
  {
   "cell_type": "code",
   "execution_count": 16,
   "metadata": {},
   "outputs": [
    {
     "data": {
      "text/plain": [
       "On branch master\n",
       "Your branch is up to date with 'origin/master'.\n",
       "\n",
       "nothing to commit, working tree clean"
      ]
     },
     "execution_count": 16,
     "metadata": {},
     "output_type": "execute_result"
    }
   ],
   "source": [
    "gs = git.bake('status')\n",
    "gs()"
   ]
  },
  {
   "cell_type": "markdown",
   "metadata": {},
   "source": [
    "Okay, still pretty simple, but you can definitely get into commands that take a LOT more parameters, and bake them in.\n",
    "A good example is ssh (covered in the online tutorial), but I'm not going to go there during a presentation -- to many challenges there.\n"
   ]
  },
  {
   "cell_type": "markdown",
   "metadata": {},
   "source": [
    "## Piping - FTW\n",
    "\n",
    "We can't get far in the shell without being able to pipe commands together. The ubiquitous | character.\n",
    "In sh, we don't do that, but instead use function composition. Think inside out if that helps.\n"
   ]
  },
  {
   "cell_type": "code",
   "execution_count": 18,
   "metadata": {},
   "outputs": [
    {
     "data": {
      "text/plain": [
       "['hello_world.py',\n",
       " 'raiseme',\n",
       " 'requirements.txt',\n",
       " 'images',\n",
       " 'Ed_Henderson_sh_module.key',\n",
       " 'code',\n",
       " 'sh_module_examples.ipynb',\n",
       " 'build_test_file.py']"
      ]
     },
     "execution_count": 18,
     "metadata": {},
     "output_type": "execute_result"
    }
   ],
   "source": [
    "from sh import glob, sort, du, wc\n",
    "glob('*')"
   ]
  },
  {
   "cell_type": "code",
   "execution_count": 19,
   "metadata": {},
   "outputs": [
    {
     "data": {
      "text/plain": [
       "8\thello_world.py\n",
       "8\traiseme\n",
       "8\trequirements.txt\n",
       "1672\timages\n",
       "3168\tEd_Henderson_sh_module.key\n",
       "32\tcode\n",
       "304\tsh_module_examples.ipynb\n",
       "8\tbuild_test_file.py"
      ]
     },
     "execution_count": 19,
     "metadata": {},
     "output_type": "execute_result"
    }
   ],
   "source": [
    "du(glob('*'))"
   ]
  },
  {
   "cell_type": "code",
   "execution_count": 94,
   "metadata": {},
   "outputs": [
    {
     "ename": "SyntaxError",
     "evalue": "invalid syntax (<ipython-input-94-4ae2938d635e>, line 2)",
     "output_type": "error",
     "traceback": [
      "\u001b[0;36m  File \u001b[0;32m\"<ipython-input-94-4ae2938d635e>\"\u001b[0;36m, line \u001b[0;32m2\u001b[0m\n\u001b[0;31m    We need to filter some bits, right\u001b[0m\n\u001b[0m          ^\u001b[0m\n\u001b[0;31mSyntaxError\u001b[0m\u001b[0;31m:\u001b[0m invalid syntax\n"
     ]
    }
   ],
   "source": [
    "### To Much Output!\n",
    "We need to filter some bits, right"
   ]
  },
  {
   "cell_type": "code",
   "execution_count": 20,
   "metadata": {},
   "outputs": [
    {
     "data": {
      "text/plain": [
       "8\thello_world.py\n",
       "8\traiseme\n",
       "8\trequirements.txt\n",
       "1672\timages\n",
       "3168\tEd_Henderson_sh_module.key\n",
       "32\tcode\n",
       "304\tsh_module_examples.ipynb\n",
       "8\tbuild_test_file.py"
      ]
     },
     "execution_count": 20,
     "metadata": {},
     "output_type": "execute_result"
    }
   ],
   "source": [
    "from sh import grep\n",
    "grep(du(glob('*')),'-v', '-E', '.venv3|.git')"
   ]
  },
  {
   "cell_type": "markdown",
   "metadata": {},
   "source": [
    "Nice! Got rid of a lot of extra stuffs"
   ]
  },
  {
   "cell_type": "code",
   "execution_count": 21,
   "metadata": {},
   "outputs": [
    {
     "data": {
      "text/plain": [
       "1672\timages\n",
       "304\tsh_module_examples.ipynb\n",
       "3168\tEd_Henderson_sh_module.key\n",
       "32\tcode\n",
       "8\tbuild_test_file.py\n",
       "8\thello_world.py\n",
       "8\traiseme\n",
       "8\trequirements.txt"
      ]
     },
     "execution_count": 21,
     "metadata": {},
     "output_type": "execute_result"
    }
   ],
   "source": [
    "sort(grep(du(glob('*')),'-v', '-E', '.venv3|.git'))"
   ]
  },
  {
   "cell_type": "code",
   "execution_count": null,
   "metadata": {},
   "outputs": [],
   "source": [
    "#### And, lets get just the top 5 disk users!"
   ]
  },
  {
   "cell_type": "code",
   "execution_count": 22,
   "metadata": {},
   "outputs": [
    {
     "data": {
      "text/plain": [
       "4\trequirements.txt\n",
       "16\tcode\n",
       "152\tsh_module_examples.ipynb\n",
       "836\timages\n",
       "1584\tEd_Henderson_sh_module.key"
      ]
     },
     "execution_count": 22,
     "metadata": {},
     "output_type": "execute_result"
    }
   ],
   "source": [
    "from sh import head, tail\n",
    "tail(sort(grep(du('-hk', glob('*')),'-v', '-E', '.venv3|.git'), '-n'), '-n', 5)"
   ]
  },
  {
   "cell_type": "markdown",
   "metadata": {},
   "source": [
    "## Is that Impressive, or what??\n",
    "\n",
    "So, now, instead jummping on a .sh script, you might find you can do a LOT more of your work in Python. \n",
    "I, for one, consider that a pretty good thing!"
   ]
  }
 ],
 "metadata": {
  "kernelspec": {
   "display_name": "Python 3",
   "language": "python",
   "name": "python3"
  },
  "language_info": {
   "codemirror_mode": {
    "name": "ipython",
    "version": 3
   },
   "file_extension": ".py",
   "mimetype": "text/x-python",
   "name": "python",
   "nbconvert_exporter": "python",
   "pygments_lexer": "ipython3",
   "version": "3.7.2"
  }
 },
 "nbformat": 4,
 "nbformat_minor": 2
}
